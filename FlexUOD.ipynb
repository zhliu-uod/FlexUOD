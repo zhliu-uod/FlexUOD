{
 "cells": [
  {
   "cell_type": "code",
   "execution_count": 5,
   "id": "b4f17bee-740c-4078-be83-a606790f8523",
   "metadata": {},
   "outputs": [],
   "source": [
    "%reload_ext autoreload\n",
    "%autoreload 2\n",
    "\n",
    "import numpy as np\n",
    "import os\n",
    "from sklearn.metrics import roc_auc_score\n",
    "from dataloader import dataLoader, load_data_with_outliers \n",
    "from method import DaDTAnomalyDetector"
   ]
  },
  {
   "cell_type": "code",
   "execution_count": 3,
   "id": "89e35f07-fc11-4520-acac-1fe7445930a7",
   "metadata": {},
   "outputs": [
    {
     "name": "stdout",
     "output_type": "stream",
     "text": [
      "feature type:  ResNet\n",
      "dataset:  CIFAR-10\n"
     ]
    }
   ],
   "source": [
    "setIndex = 1\n",
    "featureType = 'ResNet' # 'ResNet', 'Clip'\n",
    "all_feats, all_labels, dataset_name = dataLoader(setIndex, featureType)\n",
    "print('dataset: ', dataset_name)"
   ]
  },
  {
   "cell_type": "code",
   "execution_count": 14,
   "id": "86ae3b92-0557-4fa3-8f05-159a89b28710",
   "metadata": {},
   "outputs": [],
   "source": [
    "target_class = 0\n",
    "p_anon = 0.3\n",
    "\n",
    "data, gt = load_data_with_outliers(all_feats, all_labels, target_class, p_anon)"
   ]
  },
  {
   "cell_type": "code",
   "execution_count": 15,
   "id": "693a8e00-bbc7-4291-9563-d27e99e7153a",
   "metadata": {},
   "outputs": [
    {
     "name": "stdout",
     "output_type": "stream",
     "text": [
      "auc:  0.945\n"
     ]
    }
   ],
   "source": [
    "clf = DaDTAnomalyDetector()\n",
    "\n",
    "score = clf.dadt_(data)\n",
    "auc = roc_auc_score(gt, score)\n",
    "print('auc: ', format(roc_auc_score(gt, score), '.3f'))"
   ]
  },
  {
   "cell_type": "code",
   "execution_count": null,
   "id": "6eec393f-e67b-43d6-8b28-339b79cea96f",
   "metadata": {},
   "outputs": [],
   "source": []
  }
 ],
 "metadata": {
  "kernelspec": {
   "display_name": "Python 3 (ipykernel)",
   "language": "python",
   "name": "python3"
  },
  "language_info": {
   "codemirror_mode": {
    "name": "ipython",
    "version": 3
   },
   "file_extension": ".py",
   "mimetype": "text/x-python",
   "name": "python",
   "nbconvert_exporter": "python",
   "pygments_lexer": "ipython3",
   "version": "3.8.16"
  }
 },
 "nbformat": 4,
 "nbformat_minor": 5
}
